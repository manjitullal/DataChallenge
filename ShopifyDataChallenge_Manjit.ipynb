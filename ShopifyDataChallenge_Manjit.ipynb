{
  "nbformat": 4,
  "nbformat_minor": 0,
  "metadata": {
    "colab": {
      "name": "ShopifyDataChallenge-Manjit.ipynb",
      "provenance": [],
      "collapsed_sections": [],
      "toc_visible": true
    },
    "kernelspec": {
      "name": "python3",
      "display_name": "Python 3"
    }
  },
  "cells": [
    {
      "cell_type": "markdown",
      "metadata": {
        "id": "o83J7vIzx7bd",
        "colab_type": "text"
      },
      "source": [
        "# Winter 2021 Data Science Intern Challenge"
      ]
    },
    {
      "cell_type": "markdown",
      "metadata": {
        "id": "rJzypRG0FRIM",
        "colab_type": "text"
      },
      "source": [
        "Submitted by: Manjit Ullal\n",
        "\n",
        "Email: ullal.m@northeastern.edu"
      ]
    },
    {
      "cell_type": "markdown",
      "metadata": {
        "id": "hm0e1EKvzIp8",
        "colab_type": "text"
      },
      "source": [
        "#### **Question 1:** Given some sample data, write a program to answer the following: click here to access the required data set"
      ]
    },
    {
      "cell_type": "markdown",
      "metadata": {
        "id": "RWqUJjL5zNJr",
        "colab_type": "text"
      },
      "source": [
        "On Shopify, we have exactly 100 sneaker shops, and each of these shops sells only one model of shoe. We want to do some analysis of the average order value (AOV). When we look at orders data over a 30 day window, we naively calculate an AOV of $3145.13. Given that we know these shops are selling sneakers, a relatively affordable item, something seems wrong with our analysis. \n",
        "\n",
        "1. Think about what could be going wrong with our calculation. Think about a better way to evaluate this data.\n",
        "\n",
        "2. What metric would you report for this dataset?\n",
        "\n",
        "3. What is its value?\n",
        "\n",
        "Answer: Please see below"
      ]
    },
    {
      "cell_type": "code",
      "metadata": {
        "id": "VLteLLsux74s",
        "colab_type": "code",
        "cellView": "both",
        "colab": {}
      },
      "source": [
        "#@title\n",
        "import requests\n",
        "import pandas as pd\n",
        "import io\n",
        "\n",
        "url = 'https://raw.githubusercontent.com/manjitullal/DataChallenge/master/2019WDDataSet.csv'\n",
        "urlData = requests.get(url).content\n",
        "SneakerData = pd.read_csv(io.StringIO(urlData.decode('utf-8')))"
      ],
      "execution_count": null,
      "outputs": []
    },
    {
      "cell_type": "code",
      "metadata": {
        "id": "u-FwPEmNyvTx",
        "colab_type": "code",
        "cellView": "both",
        "colab": {
          "base_uri": "https://localhost:8080/",
          "height": 34
        },
        "outputId": "96414670-f639-44b0-b315-e3fecd2e3933"
      },
      "source": [
        "#@title\n",
        "m = SneakerData.shape[0]\n",
        "print(f'There are {m} orders')"
      ],
      "execution_count": null,
      "outputs": [
        {
          "output_type": "stream",
          "text": [
            "There are 5000 orders\n"
          ],
          "name": "stdout"
        }
      ]
    },
    {
      "cell_type": "markdown",
      "metadata": {
        "id": "0qt3XnX-xo00",
        "colab_type": "text"
      },
      "source": [
        "##### **1. Analysis**"
      ]
    },
    {
      "cell_type": "code",
      "metadata": {
        "id": "9sPEZnhA0Ihv",
        "colab_type": "code",
        "colab": {
          "base_uri": "https://localhost:8080/",
          "height": 201
        },
        "outputId": "bdd125fb-f71f-4e56-cea9-ff97c43b1279"
      },
      "source": [
        "SneakerData.head()"
      ],
      "execution_count": null,
      "outputs": [
        {
          "output_type": "execute_result",
          "data": {
            "text/html": [
              "<div>\n",
              "<style scoped>\n",
              "    .dataframe tbody tr th:only-of-type {\n",
              "        vertical-align: middle;\n",
              "    }\n",
              "\n",
              "    .dataframe tbody tr th {\n",
              "        vertical-align: top;\n",
              "    }\n",
              "\n",
              "    .dataframe thead th {\n",
              "        text-align: right;\n",
              "    }\n",
              "</style>\n",
              "<table border=\"1\" class=\"dataframe\">\n",
              "  <thead>\n",
              "    <tr style=\"text-align: right;\">\n",
              "      <th></th>\n",
              "      <th>order_id</th>\n",
              "      <th>shop_id</th>\n",
              "      <th>user_id</th>\n",
              "      <th>order_amount</th>\n",
              "      <th>total_items</th>\n",
              "      <th>payment_method</th>\n",
              "      <th>created_at</th>\n",
              "    </tr>\n",
              "  </thead>\n",
              "  <tbody>\n",
              "    <tr>\n",
              "      <th>0</th>\n",
              "      <td>1</td>\n",
              "      <td>53</td>\n",
              "      <td>746</td>\n",
              "      <td>224</td>\n",
              "      <td>2</td>\n",
              "      <td>cash</td>\n",
              "      <td>2017-03-13 12:36:56</td>\n",
              "    </tr>\n",
              "    <tr>\n",
              "      <th>1</th>\n",
              "      <td>2</td>\n",
              "      <td>92</td>\n",
              "      <td>925</td>\n",
              "      <td>90</td>\n",
              "      <td>1</td>\n",
              "      <td>cash</td>\n",
              "      <td>2017-03-03 17:38:52</td>\n",
              "    </tr>\n",
              "    <tr>\n",
              "      <th>2</th>\n",
              "      <td>3</td>\n",
              "      <td>44</td>\n",
              "      <td>861</td>\n",
              "      <td>144</td>\n",
              "      <td>1</td>\n",
              "      <td>cash</td>\n",
              "      <td>2017-03-14 4:23:56</td>\n",
              "    </tr>\n",
              "    <tr>\n",
              "      <th>3</th>\n",
              "      <td>4</td>\n",
              "      <td>18</td>\n",
              "      <td>935</td>\n",
              "      <td>156</td>\n",
              "      <td>1</td>\n",
              "      <td>credit_card</td>\n",
              "      <td>2017-03-26 12:43:37</td>\n",
              "    </tr>\n",
              "    <tr>\n",
              "      <th>4</th>\n",
              "      <td>5</td>\n",
              "      <td>18</td>\n",
              "      <td>883</td>\n",
              "      <td>156</td>\n",
              "      <td>1</td>\n",
              "      <td>credit_card</td>\n",
              "      <td>2017-03-01 4:35:11</td>\n",
              "    </tr>\n",
              "  </tbody>\n",
              "</table>\n",
              "</div>"
            ],
            "text/plain": [
              "   order_id  shop_id  user_id  ...  total_items  payment_method           created_at\n",
              "0         1       53      746  ...            2            cash  2017-03-13 12:36:56\n",
              "1         2       92      925  ...            1            cash  2017-03-03 17:38:52\n",
              "2         3       44      861  ...            1            cash   2017-03-14 4:23:56\n",
              "3         4       18      935  ...            1     credit_card  2017-03-26 12:43:37\n",
              "4         5       18      883  ...            1     credit_card   2017-03-01 4:35:11\n",
              "\n",
              "[5 rows x 7 columns]"
            ]
          },
          "metadata": {
            "tags": []
          },
          "execution_count": 5
        }
      ]
    },
    {
      "cell_type": "code",
      "metadata": {
        "id": "1MSAvxhoqLkv",
        "colab_type": "code",
        "colab": {
          "base_uri": "https://localhost:8080/",
          "height": 292
        },
        "outputId": "ce6600c1-3662-4048-ff82-be24ad10d5f1"
      },
      "source": [
        "SneakerData.describe()"
      ],
      "execution_count": null,
      "outputs": [
        {
          "output_type": "execute_result",
          "data": {
            "text/html": [
              "<div>\n",
              "<style scoped>\n",
              "    .dataframe tbody tr th:only-of-type {\n",
              "        vertical-align: middle;\n",
              "    }\n",
              "\n",
              "    .dataframe tbody tr th {\n",
              "        vertical-align: top;\n",
              "    }\n",
              "\n",
              "    .dataframe thead th {\n",
              "        text-align: right;\n",
              "    }\n",
              "</style>\n",
              "<table border=\"1\" class=\"dataframe\">\n",
              "  <thead>\n",
              "    <tr style=\"text-align: right;\">\n",
              "      <th></th>\n",
              "      <th>order_id</th>\n",
              "      <th>shop_id</th>\n",
              "      <th>user_id</th>\n",
              "      <th>order_amount</th>\n",
              "      <th>total_items</th>\n",
              "    </tr>\n",
              "  </thead>\n",
              "  <tbody>\n",
              "    <tr>\n",
              "      <th>count</th>\n",
              "      <td>5000.000000</td>\n",
              "      <td>5000.000000</td>\n",
              "      <td>5000.000000</td>\n",
              "      <td>5000.000000</td>\n",
              "      <td>5000.00000</td>\n",
              "    </tr>\n",
              "    <tr>\n",
              "      <th>mean</th>\n",
              "      <td>2500.500000</td>\n",
              "      <td>50.078800</td>\n",
              "      <td>849.092400</td>\n",
              "      <td>3145.128000</td>\n",
              "      <td>8.78720</td>\n",
              "    </tr>\n",
              "    <tr>\n",
              "      <th>std</th>\n",
              "      <td>1443.520003</td>\n",
              "      <td>29.006118</td>\n",
              "      <td>87.798982</td>\n",
              "      <td>41282.539349</td>\n",
              "      <td>116.32032</td>\n",
              "    </tr>\n",
              "    <tr>\n",
              "      <th>min</th>\n",
              "      <td>1.000000</td>\n",
              "      <td>1.000000</td>\n",
              "      <td>607.000000</td>\n",
              "      <td>90.000000</td>\n",
              "      <td>1.00000</td>\n",
              "    </tr>\n",
              "    <tr>\n",
              "      <th>25%</th>\n",
              "      <td>1250.750000</td>\n",
              "      <td>24.000000</td>\n",
              "      <td>775.000000</td>\n",
              "      <td>163.000000</td>\n",
              "      <td>1.00000</td>\n",
              "    </tr>\n",
              "    <tr>\n",
              "      <th>50%</th>\n",
              "      <td>2500.500000</td>\n",
              "      <td>50.000000</td>\n",
              "      <td>849.000000</td>\n",
              "      <td>284.000000</td>\n",
              "      <td>2.00000</td>\n",
              "    </tr>\n",
              "    <tr>\n",
              "      <th>75%</th>\n",
              "      <td>3750.250000</td>\n",
              "      <td>75.000000</td>\n",
              "      <td>925.000000</td>\n",
              "      <td>390.000000</td>\n",
              "      <td>3.00000</td>\n",
              "    </tr>\n",
              "    <tr>\n",
              "      <th>max</th>\n",
              "      <td>5000.000000</td>\n",
              "      <td>100.000000</td>\n",
              "      <td>999.000000</td>\n",
              "      <td>704000.000000</td>\n",
              "      <td>2000.00000</td>\n",
              "    </tr>\n",
              "  </tbody>\n",
              "</table>\n",
              "</div>"
            ],
            "text/plain": [
              "          order_id      shop_id      user_id   order_amount  total_items\n",
              "count  5000.000000  5000.000000  5000.000000    5000.000000   5000.00000\n",
              "mean   2500.500000    50.078800   849.092400    3145.128000      8.78720\n",
              "std    1443.520003    29.006118    87.798982   41282.539349    116.32032\n",
              "min       1.000000     1.000000   607.000000      90.000000      1.00000\n",
              "25%    1250.750000    24.000000   775.000000     163.000000      1.00000\n",
              "50%    2500.500000    50.000000   849.000000     284.000000      2.00000\n",
              "75%    3750.250000    75.000000   925.000000     390.000000      3.00000\n",
              "max    5000.000000   100.000000   999.000000  704000.000000   2000.00000"
            ]
          },
          "metadata": {
            "tags": []
          },
          "execution_count": 6
        }
      ]
    },
    {
      "cell_type": "code",
      "metadata": {
        "id": "DkE6WCrJto4_",
        "colab_type": "code",
        "colab": {
          "base_uri": "https://localhost:8080/",
          "height": 34
        },
        "outputId": "1f8573e8-c8d4-4ca2-c78e-257d1c13ae69"
      },
      "source": [
        "import numpy as np\n",
        "np.mean(SneakerData.order_amount)"
      ],
      "execution_count": null,
      "outputs": [
        {
          "output_type": "execute_result",
          "data": {
            "text/plain": [
              "3145.128"
            ]
          },
          "metadata": {
            "tags": []
          },
          "execution_count": 7
        }
      ]
    },
    {
      "cell_type": "markdown",
      "metadata": {
        "id": "5GzemWWqq3j4",
        "colab_type": "text"
      },
      "source": [
        "We can see that the AOV is shown as **3145.13**, which is the average order amount of all the orders across all the shops. Now we infer that this a big amount which we do not expect and therefore we are missing something with our initial analysis"
      ]
    },
    {
      "cell_type": "markdown",
      "metadata": {
        "id": "EtVuIaT4t9yx",
        "colab_type": "text"
      },
      "source": [
        "Lets redo our analysis by checking what is the AOV of each shop"
      ]
    },
    {
      "cell_type": "code",
      "metadata": {
        "id": "EPlTtQjHbTTN",
        "colab_type": "code",
        "cellView": "both",
        "colab": {
          "base_uri": "https://localhost:8080/",
          "height": 223
        },
        "outputId": "4fe26bbf-2dab-4cda-eb09-fc7c3a3dd983"
      },
      "source": [
        "#@title\n",
        "average_order_amounts = SneakerData.groupby(['shop_id'])['order_amount'].mean()\n",
        "average_order_amounts.head(10)"
      ],
      "execution_count": null,
      "outputs": [
        {
          "output_type": "execute_result",
          "data": {
            "text/plain": [
              "shop_id\n",
              "1     308.818182\n",
              "2     174.327273\n",
              "3     305.250000\n",
              "4     258.509804\n",
              "5     290.311111\n",
              "6     383.508475\n",
              "7     218.000000\n",
              "8     241.043478\n",
              "9     234.000000\n",
              "10    332.301887\n",
              "Name: order_amount, dtype: float64"
            ]
          },
          "metadata": {
            "tags": []
          },
          "execution_count": 8
        }
      ]
    },
    {
      "cell_type": "code",
      "metadata": {
        "id": "IP-Snzy30eyb",
        "colab_type": "code",
        "cellView": "both",
        "colab": {
          "base_uri": "https://localhost:8080/",
          "height": 282
        },
        "outputId": "846df7af-5504-4792-8066-89852f3176ea"
      },
      "source": [
        "#@title\n",
        "import matplotlib.pyplot as plt\n",
        "plt.plot(average_order_amounts)\n",
        "\n",
        "# This indicates that there are few shops with very large AOV and this will impact the over all AOV"
      ],
      "execution_count": null,
      "outputs": [
        {
          "output_type": "execute_result",
          "data": {
            "text/plain": [
              "[<matplotlib.lines.Line2D at 0x7f3f14382e48>]"
            ]
          },
          "metadata": {
            "tags": []
          },
          "execution_count": 9
        },
        {
          "output_type": "display_data",
          "data": {
            "image/png": "[encoded data removed]",
            "text/plain": [
              "<Figure size 432x288 with 1 Axes>"
            ]
          },
          "metadata": {
            "tags": [],
            "needs_background": "light"
          }
        }
      ]
    },
    {
      "cell_type": "markdown",
      "metadata": {
        "id": "xO9gkDZtyR5a",
        "colab_type": "text"
      },
      "source": [
        "Here, We notice that the AOV of each shop is between 300 - 400$, which is quite low compared to **3145.13**"
      ]
    },
    {
      "cell_type": "markdown",
      "metadata": {
        "id": "IAXk1VBmGLL_",
        "colab_type": "text"
      },
      "source": [
        "We notice that few shops have very high AOV, which are the outliers that are increasing the AOV"
      ]
    },
    {
      "cell_type": "code",
      "metadata": {
        "id": "f7rb46Jtu2W3",
        "colab_type": "code",
        "cellView": "both",
        "colab": {
          "base_uri": "https://localhost:8080/",
          "height": 86
        },
        "outputId": "cb191145-daaa-4d48-b567-568c48378a85"
      },
      "source": [
        "#@title\n",
        "average_order_amounts[average_order_amounts > 3145]"
      ],
      "execution_count": null,
      "outputs": [
        {
          "output_type": "execute_result",
          "data": {
            "text/plain": [
              "shop_id\n",
              "42    235101.490196\n",
              "78     49213.043478\n",
              "Name: order_amount, dtype: float64"
            ]
          },
          "metadata": {
            "tags": []
          },
          "execution_count": 10
        }
      ]
    },
    {
      "cell_type": "markdown",
      "metadata": {
        "id": "vLkhYWXIxzwu",
        "colab_type": "text"
      },
      "source": [
        "##### **2. Remodeling**"
      ]
    },
    {
      "cell_type": "markdown",
      "metadata": {
        "id": "XCCVPfzavHjl",
        "colab_type": "text"
      },
      "source": [
        "We have two ways to proceed now.\n",
        "\n",
        "1. Find AOV excluding shop 42 and 78\n",
        "\n",
        "2. Find AOV including shop 42 and 78\n"
      ]
    },
    {
      "cell_type": "markdown",
      "metadata": {
        "id": "lxD9ZsWtym6d",
        "colab_type": "text"
      },
      "source": [
        "*1. Finding AOV excluding shop 42 and 78*"
      ]
    },
    {
      "cell_type": "code",
      "metadata": {
        "id": "gIflZV48OnAf",
        "colab_type": "code",
        "colab": {
          "base_uri": "https://localhost:8080/",
          "height": 282
        },
        "outputId": "99653a46-8dc5-4b54-8757-97a600107579"
      },
      "source": [
        "average_order_amounts_adjusted = average_order_amounts[average_order_amounts < 3145]\n",
        "plt.plot(average_order_amounts_adjusted)"
      ],
      "execution_count": null,
      "outputs": [
        {
          "output_type": "execute_result",
          "data": {
            "text/plain": [
              "[<matplotlib.lines.Line2D at 0x7f3f17894208>]"
            ]
          },
          "metadata": {
            "tags": []
          },
          "execution_count": 11
        },
        {
          "output_type": "display_data",
          "data": {
            "image/png": "[encoded data removed]",
            "text/plain": [
              "<Figure size 432x288 with 1 Axes>"
            ]
          },
          "metadata": {
            "tags": [],
            "needs_background": "light"
          }
        }
      ]
    },
    {
      "cell_type": "code",
      "metadata": {
        "id": "BcmwyVAlPjq-",
        "colab_type": "code",
        "cellView": "both",
        "colab": {
          "base_uri": "https://localhost:8080/",
          "height": 51
        },
        "outputId": "5c9ac079-2ff7-4655-aa44-25c1309797af"
      },
      "source": [
        "#@title\n",
        "SneakerData2 = SneakerData[SneakerData.shop_id != 42]\n",
        "SneakerData2 = SneakerData2[SneakerData.shop_id != 78]"
      ],
      "execution_count": null,
      "outputs": [
        {
          "output_type": "stream",
          "text": [
            "/usr/local/lib/python3.6/dist-packages/ipykernel_launcher.py:3: UserWarning: Boolean Series key will be reindexed to match DataFrame index.\n",
            "  This is separate from the ipykernel package so we can avoid doing imports until\n"
          ],
          "name": "stderr"
        }
      ]
    },
    {
      "cell_type": "code",
      "metadata": {
        "id": "JSymYislRJ4u",
        "colab_type": "code",
        "cellView": "both",
        "colab": {
          "base_uri": "https://localhost:8080/",
          "height": 292
        },
        "outputId": "4adfb322-af00-4355-b5ec-11753c730d32"
      },
      "source": [
        "#@title\n",
        "SneakerData2.describe()"
      ],
      "execution_count": null,
      "outputs": [
        {
          "output_type": "execute_result",
          "data": {
            "text/html": [
              "<div>\n",
              "<style scoped>\n",
              "    .dataframe tbody tr th:only-of-type {\n",
              "        vertical-align: middle;\n",
              "    }\n",
              "\n",
              "    .dataframe tbody tr th {\n",
              "        vertical-align: top;\n",
              "    }\n",
              "\n",
              "    .dataframe thead th {\n",
              "        text-align: right;\n",
              "    }\n",
              "</style>\n",
              "<table border=\"1\" class=\"dataframe\">\n",
              "  <thead>\n",
              "    <tr style=\"text-align: right;\">\n",
              "      <th></th>\n",
              "      <th>order_id</th>\n",
              "      <th>shop_id</th>\n",
              "      <th>user_id</th>\n",
              "      <th>order_amount</th>\n",
              "      <th>total_items</th>\n",
              "    </tr>\n",
              "  </thead>\n",
              "  <tbody>\n",
              "    <tr>\n",
              "      <th>count</th>\n",
              "      <td>4903.000000</td>\n",
              "      <td>4903.000000</td>\n",
              "      <td>4903.000000</td>\n",
              "      <td>4903.000000</td>\n",
              "      <td>4903.000000</td>\n",
              "    </tr>\n",
              "    <tr>\n",
              "      <th>mean</th>\n",
              "      <td>2499.584540</td>\n",
              "      <td>49.900877</td>\n",
              "      <td>849.858862</td>\n",
              "      <td>300.155823</td>\n",
              "      <td>1.995717</td>\n",
              "    </tr>\n",
              "    <tr>\n",
              "      <th>std</th>\n",
              "      <td>1444.221163</td>\n",
              "      <td>29.154367</td>\n",
              "      <td>86.887947</td>\n",
              "      <td>155.941112</td>\n",
              "      <td>0.982602</td>\n",
              "    </tr>\n",
              "    <tr>\n",
              "      <th>min</th>\n",
              "      <td>1.000000</td>\n",
              "      <td>1.000000</td>\n",
              "      <td>700.000000</td>\n",
              "      <td>90.000000</td>\n",
              "      <td>1.000000</td>\n",
              "    </tr>\n",
              "    <tr>\n",
              "      <th>25%</th>\n",
              "      <td>1246.500000</td>\n",
              "      <td>24.000000</td>\n",
              "      <td>776.000000</td>\n",
              "      <td>163.000000</td>\n",
              "      <td>1.000000</td>\n",
              "    </tr>\n",
              "    <tr>\n",
              "      <th>50%</th>\n",
              "      <td>2499.000000</td>\n",
              "      <td>50.000000</td>\n",
              "      <td>850.000000</td>\n",
              "      <td>284.000000</td>\n",
              "      <td>2.000000</td>\n",
              "    </tr>\n",
              "    <tr>\n",
              "      <th>75%</th>\n",
              "      <td>3750.500000</td>\n",
              "      <td>74.000000</td>\n",
              "      <td>925.000000</td>\n",
              "      <td>386.500000</td>\n",
              "      <td>3.000000</td>\n",
              "    </tr>\n",
              "    <tr>\n",
              "      <th>max</th>\n",
              "      <td>5000.000000</td>\n",
              "      <td>100.000000</td>\n",
              "      <td>999.000000</td>\n",
              "      <td>1086.000000</td>\n",
              "      <td>8.000000</td>\n",
              "    </tr>\n",
              "  </tbody>\n",
              "</table>\n",
              "</div>"
            ],
            "text/plain": [
              "          order_id      shop_id      user_id  order_amount  total_items\n",
              "count  4903.000000  4903.000000  4903.000000   4903.000000  4903.000000\n",
              "mean   2499.584540    49.900877   849.858862    300.155823     1.995717\n",
              "std    1444.221163    29.154367    86.887947    155.941112     0.982602\n",
              "min       1.000000     1.000000   700.000000     90.000000     1.000000\n",
              "25%    1246.500000    24.000000   776.000000    163.000000     1.000000\n",
              "50%    2499.000000    50.000000   850.000000    284.000000     2.000000\n",
              "75%    3750.500000    74.000000   925.000000    386.500000     3.000000\n",
              "max    5000.000000   100.000000   999.000000   1086.000000     8.000000"
            ]
          },
          "metadata": {
            "tags": []
          },
          "execution_count": 13
        }
      ]
    },
    {
      "cell_type": "code",
      "metadata": {
        "id": "Hi0Bw8iMTdig",
        "colab_type": "code",
        "cellView": "both",
        "colab": {
          "base_uri": "https://localhost:8080/",
          "height": 89
        },
        "outputId": "76deea12-b4fe-4ea8-d3ef-936f5b46d9f5"
      },
      "source": [
        "#@title\n",
        "Sum_order_item1 = SneakerData2.groupby(['shop_id'])['order_amount','total_items'].sum()\n",
        "np.sum(Sum_order_item1.order_amount)/np.sum(Sum_order_item1.total_items)"
      ],
      "execution_count": null,
      "outputs": [
        {
          "output_type": "stream",
          "text": [
            "/usr/local/lib/python3.6/dist-packages/ipykernel_launcher.py:2: FutureWarning: Indexing with multiple keys (implicitly converted to a tuple of keys) will be deprecated, use a list instead.\n",
            "  \n"
          ],
          "name": "stderr"
        },
        {
          "output_type": "execute_result",
          "data": {
            "text/plain": [
              "150.4"
            ]
          },
          "metadata": {
            "tags": []
          },
          "execution_count": 15
        }
      ]
    },
    {
      "cell_type": "code",
      "metadata": {
        "id": "Jdeh1RgX3L2y",
        "colab_type": "code",
        "colab": {
          "base_uri": "https://localhost:8080/",
          "height": 89
        },
        "outputId": "080b88d0-bc12-407c-f022-908ba9894b4a"
      },
      "source": [
        "#@title\n",
        "Sum_order_item2 = SneakerData.groupby(['shop_id'])['order_amount','total_items'].sum()\n",
        "np.sum(Sum_order_item2.order_amount)/np.sum(Sum_order_item2.total_items)"
      ],
      "execution_count": null,
      "outputs": [
        {
          "output_type": "stream",
          "text": [
            "/usr/local/lib/python3.6/dist-packages/ipykernel_launcher.py:2: FutureWarning: Indexing with multiple keys (implicitly converted to a tuple of keys) will be deprecated, use a list instead.\n",
            "  \n"
          ],
          "name": "stderr"
        },
        {
          "output_type": "execute_result",
          "data": {
            "text/plain": [
              "357.92152221412965"
            ]
          },
          "metadata": {
            "tags": []
          },
          "execution_count": 16
        }
      ]
    },
    {
      "cell_type": "markdown",
      "metadata": {
        "id": "lZ34XPTa1e_v",
        "colab_type": "text"
      },
      "source": [
        "![image.png](data:image/png;base64,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)"
      ]
    },
    {
      "cell_type": "markdown",
      "metadata": {
        "id": "v9kjF6GH0IWa",
        "colab_type": "text"
      },
      "source": [
        "##### **Now, lets answer below questions:**\n",
        "\n",
        "1. Think about what could be going wrong with our calculation. Think about a better way to evaluate this data.\n",
        "\n",
        "  Answer: In our data there a few shops selling a lot more sneakers than others, hence AOV is not the right metric to understand the average order value. Shop 42 and 78, could be a distributer and therefore are selling lot of sneakers of all price ranges, making them outliers in our dataset.\n",
        "  \n",
        "\n",
        "2. What metric would you report for this dataset?\n",
        "\n",
        "  Answer: Better metric would be to use AOV/item. We can see in the image above. There are two ways to caluclate the AOV/item, one way is to remove the outliers and second way to calculate it, including the outliers.\n",
        "\n",
        "\n",
        "3. What is its value?\n",
        "\n",
        "  Answer: AOV/item is 150.4 excluding the outliers and 300.15 including the outliers."
      ]
    },
    {
      "cell_type": "markdown",
      "metadata": {
        "id": "1Rpd-KYYuEfv",
        "colab_type": "text"
      },
      "source": [
        "#### **Question 2:** For this question you’ll need to use SQL. Follow this link to access the data set required for the challenge. Please use queries to answer the following questions. Paste your queries along with your final numerical answers below."
      ]
    },
    {
      "cell_type": "markdown",
      "metadata": {
        "id": "BTpwOlBquF9r",
        "colab_type": "text"
      },
      "source": [
        "1. How many orders were shipped by Speedy Express in total? \n",
        "\n",
        "  **Answer:** 54\n",
        "\n",
        "  **Query:** \n",
        "  \n",
        "  SELECT count(*) FROM Orders o, Shippers s where o.ShipperID = s.ShipperID and s.ShipperName = 'Speedy Express';\n",
        "\n",
        "\n",
        "2.  What is the last name of the employee with the most orders?\n",
        "\n",
        "  **Answer:** Handel\n",
        "\n",
        "  **Query:** \n",
        "  \n",
        "  SELECT  substr(CustomerName, 6, 12) AS LastName\n",
        "FROM (SELECT CustomerName, MAX(ordercount) \n",
        "FROM (SELECT o.*,c.CustomerName, count(o.CustomerID) ordercount \n",
        "FROM Customers c, Orders o \n",
        "where o.CustomerID = c.CustomerID group by o.CustomerID));\n",
        "\n",
        "\n",
        "3. What product was ordered the most by customers in Germany?\n",
        "\n",
        "  **Answer:** Gorgonzola Telino\n",
        "\n",
        "  **Query:**\n",
        "\n",
        "  SELECT Country, ProductName, max(ordercount) \n",
        "FROM(\n",
        "SELECT c.Country, p.ProductName, count(p.ProductName) ordercount\n",
        "FROM Customers c, Orders o , OrderDetails d, Products p\n",
        "where c.CustomerID = o.CustomerID and o.OrderID = d.OrderID and c.Country = 'Germany' and d.ProductID = p.ProductID\n",
        "group by c.Country, d.ProductID);\n"
      ]
    }
  ]
}